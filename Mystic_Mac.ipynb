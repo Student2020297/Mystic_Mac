{
 "cells": [
  {
   "cell_type": "markdown",
   "id": "803c4205",
   "metadata": {},
   "source": [
    "# CRISP-DM Methodology for UFC Fight Prediction\n",
    "\n",
    "## 1. Business Understanding\n",
    "   - Define the problem: Predict the winner of UFC fight.\n",
    "   - Objectives: Create an ML model to predict winners accurately.\n",
    "   - Success criteria: Achieve prediction accuracy above 70%.\n",
    "\n",
    "## 2. Data Understanding\n",
    "   - Gather data: Collect historical UFC fight data.\n",
    "   - Explore data: Understand its structure, quality, and relationships.\n",
    "\n",
    "## 3. Data Preparation\n",
    "   - Preprocess data: Handle missing values, outliers, etc.\n",
    "   - Feature engineering: Create or transform features for better performance.\n",
    "\n",
    "## 4. Modeling\n",
    "   - Select algorithms: Choose suitable ML algorithms.\n",
    "   - Train-test split: Divide data into training and testing sets.\n",
    "   - Model training: Train selected algorithms on training data.\n",
    "   - Model evaluation: Assess model performance using various metrics.\n",
    "\n",
    "## 5. Evaluation\n",
    "   - Assess model performance: Compare models, tune hyperparameters.\n",
    "   - Validate results: Validate model on testing data.\n",
    "\n",
    "## 6. Deployment\n",
    "   - Deploy the model: Integrate into a platform for predictions.\n",
    "   - Monitor performance: Continuously monitor and update the model.\n",
    "\n",
    "## 7. Iterative Improvement\n",
    "   - Gather feedback: Collect user and stakeholder feedback.\n",
    "   - Update the model: Incorporate feedback and new data.\n",
    "   - Repeat the process: Iterate through the CRISP-DM process for improvements.\n"
   ]
  },
  {
   "cell_type": "markdown",
   "id": "a9b9a489",
   "metadata": {},
   "source": [
    "## CRISP-DM: 2. Data Understanding"
   ]
  },
  {
   "cell_type": "markdown",
   "id": "01cf768b",
   "metadata": {},
   "source": [
    "### Import Python Libraries "
   ]
  },
  {
   "cell_type": "code",
   "execution_count": null,
   "id": "5c4ae43e",
   "metadata": {},
   "outputs": [],
   "source": [
    "import pandas as pd\n",
    "import numpy as np\n",
    "import matplotlib.pyplot as plt\n",
    "import seaborn as sns\n",
    "#to ignore warnings\n",
    "import warnings\n",
    "warnings.filterwarnings('ignore')\n",
    "\n",
    "from sklearn.preprocessing import MinMaxScaler"
   ]
  },
  {
   "cell_type": "markdown",
   "id": "7d8a06c7",
   "metadata": {},
   "source": [
    "###  Load the Dataset"
   ]
  },
  {
   "cell_type": "code",
   "execution_count": null,
   "id": "542e7c41",
   "metadata": {},
   "outputs": [],
   "source": [
    "pd.set_option(\"display.max_rows\", None, \"display.max_columns\", None) \n",
    "data_file = 'DataUfc/data.csv'\n",
    "df = pd.read_csv(data_file)"
   ]
  },
  {
   "cell_type": "markdown",
   "id": "c9663371",
   "metadata": {},
   "source": [
    "###  Exploratory Data Analysis (EDA)"
   ]
  },
  {
   "cell_type": "code",
   "execution_count": null,
   "id": "bb0f243b",
   "metadata": {
    "scrolled": false
   },
   "outputs": [],
   "source": [
    "#Preview of dataset provided by kaggle\n",
    "df.head()"
   ]
  },
  {
   "cell_type": "markdown",
   "id": "e85e23df",
   "metadata": {},
   "source": [
    "Every row is a compilation of info about each fighter up until that fight. "
   ]
  },
  {
   "cell_type": "code",
   "execution_count": null,
   "id": "55f77a98",
   "metadata": {
    "scrolled": false
   },
   "outputs": [],
   "source": [
    "#Check datatypes by using info() \n",
    "# This method prints information about a DataFrame including the index dtype and columns, non-null values and memory usage.\n",
    "df.info(max_cols=200)"
   ]
  },
  {
   "cell_type": "markdown",
   "id": "62ae34d5",
   "metadata": {},
   "source": [
    "#### Summary Statistics for Numerical Columns:"
   ]
  },
  {
   "cell_type": "code",
   "execution_count": null,
   "id": "90778989",
   "metadata": {},
   "outputs": [],
   "source": [
    "#Calculate summary statistics for numerical columns (mean, median, standard deviation, etc.).\n",
    "df.describe()"
   ]
  },
  {
   "cell_type": "code",
   "execution_count": null,
   "id": "175f5206",
   "metadata": {},
   "outputs": [],
   "source": [
    "df.shape"
   ]
  },
  {
   "cell_type": "markdown",
   "id": "950fd15f",
   "metadata": {},
   "source": [
    "### Column definitions:\n",
    "\n",
    "```markdown\n",
    "- **R_ and B_ Prefix**: Signifies red and blue corner fighter stats respectively.\n",
    "- **_opp_ Columns**: Contain the average of damage done by the opponent on the fighter.\n",
    "- **KD**: Number of knockdowns.\n",
    "- **SIG_STR**: Number of significant strikes landed of attempted.\n",
    "- **SIG_STR_pct**: Significant strikes percentage.\n",
    "- **TOTAL_STR**: Total strikes landed of attempted.\n",
    "- **TD**: Number of takedowns.\n",
    "- **TD_pct**: Takedown percentages.\n",
    "- **SUB_ATT**: Number of submission attempts.\n",
    "- **PASS**: Number of times the guard was passed.\n",
    "- **REV**: Number of reversals landed.\n",
    "- **HEAD**: Number of significant strikes to the head landed of attempted.\n",
    "- **BODY**: Number of significant strikes to the body landed of attempted.\n",
    "- **CLINCH**: Number of significant strikes in the clinch landed of attempted.\n",
    "- **GROUND**: Number of significant strikes on the ground landed of attempted.\n",
    "- **win_by**: Method of win.\n",
    "- **last_round**: Last round of the fight (e.g., if it was a KO in 1st, then this will be 1).\n",
    "- **last_round_time**: When the fight ended in the last round.\n",
    "- **Format**: Format of the fight (3 rounds, 5 rounds, etc.).\n",
    "- **Referee**: Name of the referee.\n",
    "- **Date**: Date of the fight.\n",
    "- **Location**: Location in which the event took place.\n",
    "- **Fight_type**: Weight class and whether it's a title bout or not.\n",
    "- **Winner**: Winner of the fight.\n",
    "- **Stance**: Stance of the fighter (orthodox, southpaw, etc.).\n",
    "- **Height_cms**: Height in centimeters.\n",
    "- **Reach_cms**: Reach of the fighter (arm span) in centimeters.\n",
    "- **Weight_lbs**: Weight of the fighter in pounds (lbs).\n",
    "- **Age**: Age of the fighter.\n",
    "- **title_bout**: Boolean value of whether it is a title fight or not.\n",
    "- **weight_class**: Weight class the fight is in (Bantamweight, Heavyweight, Women's Flyweight, etc.).\n",
    "- **no_of_rounds**: Number of rounds the fight was scheduled for.\n",
    "- **current_lose_streak**: Count of current concurrent losses of the fighter.\n",
    "- **current_win_streak**: Count of current concurrent wins of the fighter.\n",
    "- **draw**: Number of draws in the fighter's UFC career.\n",
    "- **wins**: Number of wins in the fighter's UFC career.\n",
    "- **losses**: Number of losses in the fighter's UFC career.\n",
    "- **total_rounds_fought**: Average of total rounds fought by the fighter.\n",
    "- **total_time_fought (seconds)**: Count of total time spent fighting in seconds.\n",
    "- **total_title_bouts**: Total number of title bouts taken part in by the fighter.\n",
    "- **win_by_Decision_Majority**: Number of wins by majority judges decision in the fighter's UFC career.\n",
    "- **win_by_Decision_Split**: Number of wins by split judges decision in the fighter's UFC career.\n",
    "- **win_by_Decision_Unanimous**: Number of wins by unanimous judges decision in the fighter's UFC career.\n",
    "- **win_by_KO/TKO**: Number of wins by knockout in the fighter's UFC career.\n",
    "- **win_by_Submission**: Number of wins by submission in the fighter's UFC career.\n",
    "- **win_by_TKO_Doctor_Stoppage**: Number of wins by doctor stoppage in the fighter's UFC career.\n",
    "```"
   ]
  },
  {
   "cell_type": "code",
   "execution_count": null,
   "id": "d52ee498",
   "metadata": {},
   "outputs": [],
   "source": [
    "# The below code shows null values present in the data in column-wise\n",
    "df.isnull().sum()"
   ]
  },
  {
   "cell_type": "markdown",
   "id": "a5de94b2",
   "metadata": {},
   "source": [
    "#### Distribution of Null Values "
   ]
  },
  {
   "cell_type": "code",
   "execution_count": null,
   "id": "1698f107",
   "metadata": {
    "scrolled": true
   },
   "outputs": [],
   "source": [
    "#This code will iterate over all columns in the DataFrame, \n",
    "# and if a column starts with 'B_', it will add the column name to the list B_fighters_columns.\n",
    "B_fighters_columns = []\n",
    "for column in df.columns:\n",
    "        if column.startswith('B_'):\n",
    "            B_fighters_columns.append(column)"
   ]
  },
  {
   "cell_type": "code",
   "execution_count": null,
   "id": "10f11cfb",
   "metadata": {},
   "outputs": [],
   "source": [
    "#Same code but for R_fighters.\n",
    "R_fighters_columns = []\n",
    "for column in df.columns:\n",
    "        if column.startswith('R_'):\n",
    "            R_fighters_columns.append(column)"
   ]
  },
  {
   "cell_type": "code",
   "execution_count": null,
   "id": "5f3ad0fb",
   "metadata": {},
   "outputs": [],
   "source": [
    "#function null_values_vis_bar_plot takes four parameters: df, columns_list, color, and title. \n",
    "#It generates a bar plot to visualize the count of null (NaN) values in columns \n",
    "# of a DataFrame specified in the columns_list.\n",
    "def null_values_vis_bar_plot(df, columns_list, color, title):\n",
    "    null_values = {}\n",
    "\n",
    "    for column in columns_list:\n",
    "        if df[column].isnull().sum()!=0:\n",
    "            null_values[column] = df[column].isnull().sum()\n",
    "\n",
    "    # Create bar plot for null counts in columns starting with 'B'\n",
    "    plt.figure(figsize=(18,8))\n",
    "    plt.bar(null_values.keys(), null_values.values(), color=color)\n",
    "    plt.xlabel('Columns')\n",
    "    plt.ylabel('Count of Null Values')\n",
    "    plt.title(f'{title}')\n",
    "\n",
    "    plt.xticks(rotation=90)  # Rotate x-axis tick labels vertically\n",
    "\n",
    "    plt.show()"
   ]
  },
  {
   "cell_type": "code",
   "execution_count": null,
   "id": "f777692e",
   "metadata": {},
   "outputs": [],
   "source": [
    "null_values_vis_bar_plot(df, B_fighters_columns, 'blue', \"Null Values Visualisation for fighters in the Blue Corner\")"
   ]
  },
  {
   "cell_type": "code",
   "execution_count": null,
   "id": "68e638b0",
   "metadata": {
    "scrolled": false
   },
   "outputs": [],
   "source": [
    "null_values_vis_bar_plot(df, R_fighters_columns, 'red', \"Null Values Visualisation for fighters in the Red Corner\")"
   ]
  },
  {
   "cell_type": "code",
   "execution_count": null,
   "id": "09908836",
   "metadata": {
    "scrolled": true
   },
   "outputs": [],
   "source": [
    "#Checking null values in columns that doesn't related to the fighters (exclude R_ and B_ letter in the begining of the columns)\n",
    "for column in df.columns:\n",
    "        if df[column].isnull().sum()!=0 and not column.startswith('R_') and not column.startswith('B_'):\n",
    "            print(f\"Nan in {column}: {df[column].isnull().sum()}\")"
   ]
  },
  {
   "cell_type": "markdown",
   "id": "05fece41",
   "metadata": {},
   "source": [
    "* As we can see above, Blue fighters have 1427 missing rows and Red fighters have 712, which means they probably must not have had any UFC fights before, that's why their stats data are missing. We can not delete them, since in total we got 6012 rows, and deleting 1/3(1427 + 712) of it will significantly reduces the size of your dataset and affect on it's shape. \n",
    "* We can also notice that the only column that has missing values and does not related to any fighter is Referee column, which we don't really need for our further analysis and model, so we just simply drop it.\n",
    "* Instead of deleting the missing rows, we can impute the missing values with sensible replacements. \n",
    "For numerical features, we will fill missing values with the mean, median, or mode of the respective feature. For categorical features, you might fill missing values with the most frequent category."
   ]
  },
  {
   "cell_type": "code",
   "execution_count": null,
   "id": "b20377d5",
   "metadata": {
    "scrolled": false
   },
   "outputs": [],
   "source": [
    "# Plot histograms for selected columns before imputation\n",
    "plt.figure(figsize=(60, 70))\n",
    "plt.subplots_adjust(hspace=0.5)\n",
    "B_fighters_NULLcolumns = []\n",
    "for column in B_fighters_columns:        \n",
    "    if df[column].isnull().sum()!=0:\n",
    "        B_fighters_NULLcolumns.append(column)\n",
    "            \n",
    "for i, column in enumerate(B_fighters_NULLcolumns):\n",
    "    plt.subplot(9, 10, i+1)\n",
    "    sns.histplot(df[column], kde=True, color='blue', bins=30)\n",
    "    plt.title(f'{column} - Before Imputation')\n",
    "    plt.xlabel('')\n",
    "    plt.margins(x=0)  # Disable margins to allow zooming\n",
    "plt.show()"
   ]
  },
  {
   "cell_type": "code",
   "execution_count": null,
   "id": "ab9dca7b",
   "metadata": {},
   "outputs": [],
   "source": [
    "from sklearn.experimental import enable_iterative_imputer\n",
    "from sklearn.impute import IterativeImputer"
   ]
  },
  {
   "cell_type": "code",
   "execution_count": null,
   "id": "71eb7a02",
   "metadata": {},
   "outputs": [],
   "source": [
    "#Null columns list update \n",
    "B_fighters_NULLcolumns = []\n",
    "for column in B_fighters_columns:        \n",
    "    if df2[column].isnull().sum()!=0:\n",
    "        B_fighters_NULLcolumns.append(column)\n",
    "\n",
    "# Create a copy of the dataframe\n",
    "df_imputed = df2.copy()\n",
    "\n",
    "# Initialize the imputer\n",
    "imputer = IterativeImputer(max_iter=10, random_state=0)\n",
    "\n",
    "# Fit and transform the imputer on the selected columns\n",
    "df_imputed[B_fighters_NULLcolumns] = imputer.fit_transform(df_imputed[B_fighters_NULLcolumns])\n",
    "\n",
    "# Check if there are still any missing values\n",
    "print(\"Number of missing values after imputation:\")\n",
    "print(df_imputed[B_fighters_NULLcolumns].isnull().sum())"
   ]
  },
  {
   "cell_type": "code",
   "execution_count": null,
   "id": "4e7d51b3",
   "metadata": {},
   "outputs": [],
   "source": [
    "# Plot histograms for selected columns after imputation\n",
    "plt.figure(figsize=(60, 70))\n",
    "plt.subplots_adjust(hspace=0.5)\n",
    "\n",
    "for i, column in enumerate(B_fighters_NULLcolumns):\n",
    "    plt.subplot(9, 10, i+1)\n",
    "    sns.histplot(df[column], kde=True, color='orange', bins=30)\n",
    "    plt.title(f'{column} - After Imputation')\n",
    "    plt.xlabel('')\n",
    "    plt.margins(x=0)  # Disable margins to allow zooming\n",
    "plt.show()"
   ]
  },
  {
   "cell_type": "markdown",
   "id": "be91984c",
   "metadata": {},
   "source": [
    "#### Visualisation of Relationships Between Variables:"
   ]
  },
  {
   "cell_type": "code",
   "execution_count": null,
   "id": "bbddd40c",
   "metadata": {},
   "outputs": [],
   "source": [
    "plt.figure(figsize=(20,20))\n",
    "sns.heatmap(df.corr())\n",
    "\n",
    "plt.show()"
   ]
  },
  {
   "cell_type": "markdown",
   "id": "8be26e18",
   "metadata": {},
   "source": [
    "#### Target Variable \"Winner\" Distribution "
   ]
  },
  {
   "cell_type": "code",
   "execution_count": null,
   "id": "c9bda2ce",
   "metadata": {},
   "outputs": [],
   "source": [
    "# Set the figure size\n",
    "plt.figure(figsize=(10, 10))\n",
    "\n",
    "#Define custom colors for each category \n",
    "colors = {'Blue': 'blue',\n",
    "          'Red': 'red',\n",
    "          'Draw': 'grey'}\n",
    "\n",
    "# Plot pie chart\n",
    "df['Winner'].value_counts().plot(kind='pie', \n",
    "                                 autopct='%1.1f%%', \n",
    "                                 startangle=90, \n",
    "                                 colors=[colors.get(label, 'green') for label in df['Winner'].unique()])\n",
    "plt.title('Distribution of Target\\n')\n",
    "plt.axis('equal')  # Equal aspect ratio ensures that pie is drawn as a circle.\n",
    "plt.legend()\n",
    "plt.show()"
   ]
  },
  {
   "cell_type": "markdown",
   "id": "847ac20c",
   "metadata": {},
   "source": [
    "We can see here that \"Draws\" are incredibly rare. Since the \"Winner\" variable is going to be our target, we are dealing with multi-class classification problem, but to simplify it \"Draws\" should be removed from the target variable so it becomes a binary classification task."
   ]
  },
  {
   "cell_type": "markdown",
   "id": "3e6afa6b",
   "metadata": {},
   "source": [
    "With a dataset containing a wide range of features like the one you provided, there are several potential avenues for visualization and analysis. Here are a few ideas to get you started:\n",
    "\n",
    "* Winner Distribution: Visualize the distribution of winners ('Winner' column). This can give insights into whether certain factors or fighter characteristics contribute to winning more often.\n",
    "* Fighter Characteristics: Explore the distribution of various fighter characteristics such as height, weight, reach, age, and stance. You can visualize these distributions using histograms or box plots and compare them between winning and losing fighters.\n",
    "* Fight Outcomes by Weight Class: Analyze the distribution of fight outcomes (win/loss) across different weight classes ('weight_class' column). This can reveal whether certain weight classes have higher win rates or are more competitive.\n",
    "* Fight Statistics: Explore the average fight statistics (e.g., significant strikes, takedowns, knockdowns) for winning and losing fighters. Visualize these using histograms or box plots to identify differences in performance between winners and losers.\n",
    "* Stance Analysis: Investigate the impact of fighter stance ('B_Stance' and 'R_Stance' columns) on fight outcomes. Compare the win rates and performance metrics of fighters with different stances.\n",
    "* Title Bout Analysis: Analyze the frequency and outcomes of title bouts ('title_bout' column). Visualize the distribution of wins and losses in title bouts compared to non-title bouts.\n",
    "* Correlation Analysis: Compute the correlation matrix between different numerical features in the dataset and visualize it using a heatmap. This can help identify relationships and dependencies between variables.\n",
    "* Time Series Analysis: If the 'date' column contains temporal data, you can perform time series analysis to examine trends and patterns in fight outcomes or fighter characteristics over time."
   ]
  },
  {
   "cell_type": "markdown",
   "id": "c44071bf",
   "metadata": {},
   "source": [
    "### 4: Data Preprocessing:"
   ]
  },
  {
   "cell_type": "markdown",
   "id": "40246e67",
   "metadata": {},
   "source": [
    "### Dealing with NaNs"
   ]
  },
  {
   "cell_type": "code",
   "execution_count": null,
   "id": "1853f37b",
   "metadata": {
    "scrolled": false
   },
   "outputs": [],
   "source": [
    "# Returns the column names along with the number of NaN values in that particular column\n",
    "for column in df.columns:\n",
    "    if df[column].isnull().sum()!=0:\n",
    "        print(f\"Nan in {column}: {df[column].isnull().sum()}\")\n"
   ]
  },
  {
   "cell_type": "markdown",
   "id": "9f3151a5",
   "metadata": {},
   "source": [
    "* Numerical Columns: Many numerical columns such as those related to average statistics (e.g., average knockdowns, significant strike percentages, takedown percentages, etc.) have a substantial number of missing values (1427 missing values). This suggests that there may be instances where this statistical information was not recorded for certain fights or fighters.\n",
    "* Categorical Columns: Categorical columns like 'Stance' for both red and blue fighters also have missing values, albeit fewer compared to the numerical columns. Similarly, the 'Referee' column has 32 missing values.\n",
    "* Physical Attributes: Columns related to physical attributes like height, reach, and weight also have missing values. For example, 'B_Reach_cms' has 891 missing values, 'R_Reach_cms' has 406 missing values, 'B_Height_cms' has 10 missing values, and 'R_Height_cms' has 4 missing values. The number of missing values in these columns is relatively smaller compared to the numerical columns.\n",
    "* Age: Both 'B_age' and 'R_age' columns have missing values (172 and 63 missing values respectively), indicating that the age of some fighters is not recorded in the dataset.\n",
    "* Winner: It's noteworthy that the 'Winner' column has no missing values, indicating that the outcome of each fight is known."
   ]
  },
  {
   "cell_type": "markdown",
   "id": "992e0efa",
   "metadata": {},
   "source": [
    "\n",
    "* Referee doesn't look like an important column. Let's delete that.\n",
    "* Let's see if height and reach have a correlation\n",
    "* The rest i.e. Age, Stance and Height, let's fill with the median of that column."
   ]
  },
  {
   "cell_type": "markdown",
   "id": "b8647c1b",
   "metadata": {},
   "source": [
    "Droping \"Referee\" column "
   ]
  },
  {
   "cell_type": "code",
   "execution_count": null,
   "id": "23b23215",
   "metadata": {},
   "outputs": [],
   "source": [
    "df2 = df.copy()"
   ]
  },
  {
   "cell_type": "code",
   "execution_count": null,
   "id": "73636a89",
   "metadata": {},
   "outputs": [],
   "source": [
    "df2.drop(columns=['Referee'], inplace=True)"
   ]
  },
  {
   "cell_type": "code",
   "execution_count": null,
   "id": "bec72ed5",
   "metadata": {
    "scrolled": false
   },
   "outputs": [],
   "source": [
    "df2.head()"
   ]
  },
  {
   "cell_type": "markdown",
   "id": "f087871d",
   "metadata": {},
   "source": [
    "Correlation between 'Height' and 'Reach'"
   ]
  },
  {
   "cell_type": "code",
   "execution_count": null,
   "id": "5a9a326d",
   "metadata": {},
   "outputs": [],
   "source": [
    "# Set style of scatterplot\n",
    "sns.set_context(\"notebook\", font_scale=1.1)\n",
    "sns.set_style(\"ticks\")\n",
    "\n",
    "# Create scatterplot of dataframe\n",
    "sns.lmplot('R_Height_cms', # Horizontal axis\n",
    "           'R_Reach_cms', # Vertical axis\n",
    "           data=df2, # Data source\n",
    "           fit_reg=True # fix a regression line\n",
    "           ) # S marker size"
   ]
  },
  {
   "cell_type": "markdown",
   "id": "a3958d1e",
   "metadata": {},
   "source": [
    "* We can see there is a positive correlation between height and reach. So we'll replace reach with height"
   ]
  },
  {
   "cell_type": "code",
   "execution_count": null,
   "id": "c6b046e1",
   "metadata": {
    "scrolled": false
   },
   "outputs": [],
   "source": [
    "df2.isnull().sum()"
   ]
  },
  {
   "cell_type": "code",
   "execution_count": null,
   "id": "98082217",
   "metadata": {},
   "outputs": [],
   "source": [
    "#Fills missing values in the Reach_cms column with Height_cms value\n",
    "df2['R_Reach_cms'].fillna(df2['R_Height_cms'], inplace=True)\n",
    "df2['B_Reach_cms'].fillna(df2['B_Height_cms'], inplace=True)"
   ]
  },
  {
   "cell_type": "markdown",
   "id": "02aea1d9",
   "metadata": {},
   "source": [
    "Filling 'Age', 'Stance' with the median of that column."
   ]
  },
  {
   "cell_type": "code",
   "execution_count": null,
   "id": "7cd3e07b",
   "metadata": {},
   "outputs": [],
   "source": [
    "df2['B_Stance'].value_counts()"
   ]
  },
  {
   "cell_type": "code",
   "execution_count": null,
   "id": "903e68c4",
   "metadata": {},
   "outputs": [],
   "source": [
    "df2['R_Stance'].fillna('Orthodox', inplace=True)\n",
    "df2['B_Stance'].fillna('Orthodox', inplace=True)"
   ]
  },
  {
   "cell_type": "code",
   "execution_count": null,
   "id": "908ad709",
   "metadata": {
    "scrolled": false
   },
   "outputs": [],
   "source": [
    "for column in df2.columns:\n",
    "    if df2[column].isnull().sum()!=0:\n",
    "        print(f\"Nan in {column}: {df2[column].isnull().sum()}\")"
   ]
  },
  {
   "cell_type": "markdown",
   "id": "e084d0eb",
   "metadata": {},
   "source": [
    "To check the shape of the 'B/R_age' columns before and after filling missing values with the median, we can visualise the distribution of values before and after filling missing values to get a sense of how the shape of the data has changed."
   ]
  },
  {
   "cell_type": "code",
   "execution_count": null,
   "id": "96d18bd1",
   "metadata": {},
   "outputs": [],
   "source": [
    "# Before filling missing values (kernel density estimation)\n",
    "plt.figure(figsize=(8, 5))\n",
    "sns.kdeplot(df2['B_age'].dropna(), color='blue', label='Before Filling Missing Values')\n",
    "plt.xlabel('Age')\n",
    "plt.ylabel('Density')\n",
    "plt.title('KDE Plot of B_age Before Filling Missing Values')\n",
    "plt.legend()\n",
    "plt.show()\n"
   ]
  },
  {
   "cell_type": "code",
   "execution_count": null,
   "id": "5c79ec21",
   "metadata": {},
   "outputs": [],
   "source": [
    "# Fill missing values with the median\n",
    "df2['B_age'].fillna(df2['B_age'].median(), inplace=True)"
   ]
  },
  {
   "cell_type": "code",
   "execution_count": null,
   "id": "3a7afc65",
   "metadata": {},
   "outputs": [],
   "source": [
    "# After filling missing values\n",
    "plt.figure(figsize=(8, 5))\n",
    "sns.kdeplot(df2['B_age'], color='orange', label='After Filling Missing Values')\n",
    "plt.xlabel('Age')\n",
    "plt.ylabel('Density')\n",
    "plt.title('KDE Plot of B_age After Filling Missing Values')\n",
    "plt.legend()\n",
    "plt.show()"
   ]
  },
  {
   "cell_type": "code",
   "execution_count": null,
   "id": "f4c45cd6",
   "metadata": {},
   "outputs": [],
   "source": [
    "#This line fills any remaining missing values in the df2 with the median of each column.\n",
    "df2.fillna(df2.median(), inplace=True)"
   ]
  },
  {
   "cell_type": "markdown",
   "id": "fb92a375",
   "metadata": {},
   "source": [
    "### Removing non essential columns"
   ]
  },
  {
   "cell_type": "code",
   "execution_count": null,
   "id": "c545de04",
   "metadata": {},
   "outputs": [],
   "source": []
  },
  {
   "cell_type": "code",
   "execution_count": null,
   "id": "f78ee1b6",
   "metadata": {},
   "outputs": [],
   "source": []
  }
 ],
 "metadata": {
  "kernelspec": {
   "display_name": "Python 3 (ipykernel)",
   "language": "python",
   "name": "python3"
  },
  "language_info": {
   "codemirror_mode": {
    "name": "ipython",
    "version": 3
   },
   "file_extension": ".py",
   "mimetype": "text/x-python",
   "name": "python",
   "nbconvert_exporter": "python",
   "pygments_lexer": "ipython3",
   "version": "3.9.12"
  }
 },
 "nbformat": 4,
 "nbformat_minor": 5
}
